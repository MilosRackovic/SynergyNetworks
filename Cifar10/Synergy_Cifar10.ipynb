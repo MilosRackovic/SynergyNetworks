{
  "nbformat": 4,
  "nbformat_minor": 0,
  "metadata": {
    "colab": {
      "provenance": []
    },
    "kernelspec": {
      "name": "python3",
      "display_name": "Python 3"
    },
    "language_info": {
      "name": "python"
    },
    "accelerator": "GPU",
    "gpuClass": "standard",
    "widgets": {
      "application/vnd.jupyter.widget-state+json": {
        "e2c0ecd894b64fb3af73a8f9c9b1fc1c": {
          "model_module": "@jupyter-widgets/controls",
          "model_name": "HBoxModel",
          "model_module_version": "1.5.0",
          "state": {
            "_dom_classes": [],
            "_model_module": "@jupyter-widgets/controls",
            "_model_module_version": "1.5.0",
            "_model_name": "HBoxModel",
            "_view_count": null,
            "_view_module": "@jupyter-widgets/controls",
            "_view_module_version": "1.5.0",
            "_view_name": "HBoxView",
            "box_style": "",
            "children": [
              "IPY_MODEL_786dafaa9f824a09847417347e8e2e01",
              "IPY_MODEL_4e0693f445754724a28a36e2fc319571",
              "IPY_MODEL_cd8aa88883d14c35a70d64d7834cd445"
            ],
            "layout": "IPY_MODEL_b8b9a61407d74e41894824faafeb8897"
          }
        },
        "786dafaa9f824a09847417347e8e2e01": {
          "model_module": "@jupyter-widgets/controls",
          "model_name": "HTMLModel",
          "model_module_version": "1.5.0",
          "state": {
            "_dom_classes": [],
            "_model_module": "@jupyter-widgets/controls",
            "_model_module_version": "1.5.0",
            "_model_name": "HTMLModel",
            "_view_count": null,
            "_view_module": "@jupyter-widgets/controls",
            "_view_module_version": "1.5.0",
            "_view_name": "HTMLView",
            "description": "",
            "description_tooltip": null,
            "layout": "IPY_MODEL_e206eb08c84a4c5eb4528b8f845ec69d",
            "placeholder": "​",
            "style": "IPY_MODEL_55f14608f930452cb13d85599d7651fe",
            "value": "100%"
          }
        },
        "4e0693f445754724a28a36e2fc319571": {
          "model_module": "@jupyter-widgets/controls",
          "model_name": "FloatProgressModel",
          "model_module_version": "1.5.0",
          "state": {
            "_dom_classes": [],
            "_model_module": "@jupyter-widgets/controls",
            "_model_module_version": "1.5.0",
            "_model_name": "FloatProgressModel",
            "_view_count": null,
            "_view_module": "@jupyter-widgets/controls",
            "_view_module_version": "1.5.0",
            "_view_name": "ProgressView",
            "bar_style": "success",
            "description": "",
            "description_tooltip": null,
            "layout": "IPY_MODEL_2ff37b52463c4efeb416c0b031b0e480",
            "max": 170498071,
            "min": 0,
            "orientation": "horizontal",
            "style": "IPY_MODEL_324442e732374b1b917c64ec38772e1a",
            "value": 170498071
          }
        },
        "cd8aa88883d14c35a70d64d7834cd445": {
          "model_module": "@jupyter-widgets/controls",
          "model_name": "HTMLModel",
          "model_module_version": "1.5.0",
          "state": {
            "_dom_classes": [],
            "_model_module": "@jupyter-widgets/controls",
            "_model_module_version": "1.5.0",
            "_model_name": "HTMLModel",
            "_view_count": null,
            "_view_module": "@jupyter-widgets/controls",
            "_view_module_version": "1.5.0",
            "_view_name": "HTMLView",
            "description": "",
            "description_tooltip": null,
            "layout": "IPY_MODEL_7b15de5cd0d24cbd9dd52339422121e4",
            "placeholder": "​",
            "style": "IPY_MODEL_1ff2c73565ce4f5cb3c8c9c980a24e3e",
            "value": " 170498071/170498071 [00:02&lt;00:00, 105707736.12it/s]"
          }
        },
        "b8b9a61407d74e41894824faafeb8897": {
          "model_module": "@jupyter-widgets/base",
          "model_name": "LayoutModel",
          "model_module_version": "1.2.0",
          "state": {
            "_model_module": "@jupyter-widgets/base",
            "_model_module_version": "1.2.0",
            "_model_name": "LayoutModel",
            "_view_count": null,
            "_view_module": "@jupyter-widgets/base",
            "_view_module_version": "1.2.0",
            "_view_name": "LayoutView",
            "align_content": null,
            "align_items": null,
            "align_self": null,
            "border": null,
            "bottom": null,
            "display": null,
            "flex": null,
            "flex_flow": null,
            "grid_area": null,
            "grid_auto_columns": null,
            "grid_auto_flow": null,
            "grid_auto_rows": null,
            "grid_column": null,
            "grid_gap": null,
            "grid_row": null,
            "grid_template_areas": null,
            "grid_template_columns": null,
            "grid_template_rows": null,
            "height": null,
            "justify_content": null,
            "justify_items": null,
            "left": null,
            "margin": null,
            "max_height": null,
            "max_width": null,
            "min_height": null,
            "min_width": null,
            "object_fit": null,
            "object_position": null,
            "order": null,
            "overflow": null,
            "overflow_x": null,
            "overflow_y": null,
            "padding": null,
            "right": null,
            "top": null,
            "visibility": null,
            "width": null
          }
        },
        "e206eb08c84a4c5eb4528b8f845ec69d": {
          "model_module": "@jupyter-widgets/base",
          "model_name": "LayoutModel",
          "model_module_version": "1.2.0",
          "state": {
            "_model_module": "@jupyter-widgets/base",
            "_model_module_version": "1.2.0",
            "_model_name": "LayoutModel",
            "_view_count": null,
            "_view_module": "@jupyter-widgets/base",
            "_view_module_version": "1.2.0",
            "_view_name": "LayoutView",
            "align_content": null,
            "align_items": null,
            "align_self": null,
            "border": null,
            "bottom": null,
            "display": null,
            "flex": null,
            "flex_flow": null,
            "grid_area": null,
            "grid_auto_columns": null,
            "grid_auto_flow": null,
            "grid_auto_rows": null,
            "grid_column": null,
            "grid_gap": null,
            "grid_row": null,
            "grid_template_areas": null,
            "grid_template_columns": null,
            "grid_template_rows": null,
            "height": null,
            "justify_content": null,
            "justify_items": null,
            "left": null,
            "margin": null,
            "max_height": null,
            "max_width": null,
            "min_height": null,
            "min_width": null,
            "object_fit": null,
            "object_position": null,
            "order": null,
            "overflow": null,
            "overflow_x": null,
            "overflow_y": null,
            "padding": null,
            "right": null,
            "top": null,
            "visibility": null,
            "width": null
          }
        },
        "55f14608f930452cb13d85599d7651fe": {
          "model_module": "@jupyter-widgets/controls",
          "model_name": "DescriptionStyleModel",
          "model_module_version": "1.5.0",
          "state": {
            "_model_module": "@jupyter-widgets/controls",
            "_model_module_version": "1.5.0",
            "_model_name": "DescriptionStyleModel",
            "_view_count": null,
            "_view_module": "@jupyter-widgets/base",
            "_view_module_version": "1.2.0",
            "_view_name": "StyleView",
            "description_width": ""
          }
        },
        "2ff37b52463c4efeb416c0b031b0e480": {
          "model_module": "@jupyter-widgets/base",
          "model_name": "LayoutModel",
          "model_module_version": "1.2.0",
          "state": {
            "_model_module": "@jupyter-widgets/base",
            "_model_module_version": "1.2.0",
            "_model_name": "LayoutModel",
            "_view_count": null,
            "_view_module": "@jupyter-widgets/base",
            "_view_module_version": "1.2.0",
            "_view_name": "LayoutView",
            "align_content": null,
            "align_items": null,
            "align_self": null,
            "border": null,
            "bottom": null,
            "display": null,
            "flex": null,
            "flex_flow": null,
            "grid_area": null,
            "grid_auto_columns": null,
            "grid_auto_flow": null,
            "grid_auto_rows": null,
            "grid_column": null,
            "grid_gap": null,
            "grid_row": null,
            "grid_template_areas": null,
            "grid_template_columns": null,
            "grid_template_rows": null,
            "height": null,
            "justify_content": null,
            "justify_items": null,
            "left": null,
            "margin": null,
            "max_height": null,
            "max_width": null,
            "min_height": null,
            "min_width": null,
            "object_fit": null,
            "object_position": null,
            "order": null,
            "overflow": null,
            "overflow_x": null,
            "overflow_y": null,
            "padding": null,
            "right": null,
            "top": null,
            "visibility": null,
            "width": null
          }
        },
        "324442e732374b1b917c64ec38772e1a": {
          "model_module": "@jupyter-widgets/controls",
          "model_name": "ProgressStyleModel",
          "model_module_version": "1.5.0",
          "state": {
            "_model_module": "@jupyter-widgets/controls",
            "_model_module_version": "1.5.0",
            "_model_name": "ProgressStyleModel",
            "_view_count": null,
            "_view_module": "@jupyter-widgets/base",
            "_view_module_version": "1.2.0",
            "_view_name": "StyleView",
            "bar_color": null,
            "description_width": ""
          }
        },
        "7b15de5cd0d24cbd9dd52339422121e4": {
          "model_module": "@jupyter-widgets/base",
          "model_name": "LayoutModel",
          "model_module_version": "1.2.0",
          "state": {
            "_model_module": "@jupyter-widgets/base",
            "_model_module_version": "1.2.0",
            "_model_name": "LayoutModel",
            "_view_count": null,
            "_view_module": "@jupyter-widgets/base",
            "_view_module_version": "1.2.0",
            "_view_name": "LayoutView",
            "align_content": null,
            "align_items": null,
            "align_self": null,
            "border": null,
            "bottom": null,
            "display": null,
            "flex": null,
            "flex_flow": null,
            "grid_area": null,
            "grid_auto_columns": null,
            "grid_auto_flow": null,
            "grid_auto_rows": null,
            "grid_column": null,
            "grid_gap": null,
            "grid_row": null,
            "grid_template_areas": null,
            "grid_template_columns": null,
            "grid_template_rows": null,
            "height": null,
            "justify_content": null,
            "justify_items": null,
            "left": null,
            "margin": null,
            "max_height": null,
            "max_width": null,
            "min_height": null,
            "min_width": null,
            "object_fit": null,
            "object_position": null,
            "order": null,
            "overflow": null,
            "overflow_x": null,
            "overflow_y": null,
            "padding": null,
            "right": null,
            "top": null,
            "visibility": null,
            "width": null
          }
        },
        "1ff2c73565ce4f5cb3c8c9c980a24e3e": {
          "model_module": "@jupyter-widgets/controls",
          "model_name": "DescriptionStyleModel",
          "model_module_version": "1.5.0",
          "state": {
            "_model_module": "@jupyter-widgets/controls",
            "_model_module_version": "1.5.0",
            "_model_name": "DescriptionStyleModel",
            "_view_count": null,
            "_view_module": "@jupyter-widgets/base",
            "_view_module_version": "1.2.0",
            "_view_name": "StyleView",
            "description_width": ""
          }
        }
      }
    }
  },
  "cells": [
    {
      "cell_type": "code",
      "execution_count": null,
      "metadata": {
        "id": "gr73brpWhHxn",
        "colab": {
          "base_uri": "https://localhost:8080/"
        },
        "outputId": "12d413b4-5f69-46a5-adc4-9e81ac65df2c"
      },
      "outputs": [
        {
          "output_type": "stream",
          "name": "stdout",
          "text": [
            "Looking in indexes: https://pypi.org/simple, https://us-python.pkg.dev/colab-wheels/public/simple/\n",
            "Collecting torchattacks\n",
            "  Downloading torchattacks-3.3.0-py3-none-any.whl (155 kB)\n",
            "\u001b[K     |████████████████████████████████| 155 kB 4.7 MB/s \n",
            "\u001b[?25hInstalling collected packages: torchattacks\n",
            "Successfully installed torchattacks-3.3.0\n"
          ]
        }
      ],
      "source": [
        "import torch\n",
        "import torch.nn as nn\n",
        "import torch.nn.functional as F\n",
        "import torch.optim as optim\n",
        "import numpy as np\n",
        "import time\n",
        "from datetime import datetime as dt\n",
        "from torchvision import datasets, transforms\n",
        "import pickle\n",
        "!pip install torchattacks==3.3.0\n"
      ]
    },
    {
      "cell_type": "markdown",
      "source": [
        "# Konstante za ponovne treninge (da bude uvek isto)"
      ],
      "metadata": {
        "id": "_qwVweGuif1F"
      }
    },
    {
      "cell_type": "code",
      "source": [
        "torch.manual_seed(42)\n",
        "torch.backends.cudnn.deterministic = True\n",
        "torch.backends.cudnn.benchmark = False\n",
        "np.random.seed(42)"
      ],
      "metadata": {
        "id": "lGW5pcPrhgwK"
      },
      "execution_count": null,
      "outputs": []
    },
    {
      "cell_type": "markdown",
      "source": [
        "# Konfiguracija modela"
      ],
      "metadata": {
        "id": "cAgYgASrip4U"
      }
    },
    {
      "cell_type": "code",
      "source": [
        "OMEGA = 1\n",
        "HIDDEN1 = 120\n",
        "HIDDEN2 = 84\n",
        "CONV_OUT = 16 * 5 * 5\n",
        "NUM_CLASSES = 10\n",
        "\n",
        "LR = 0.001\n",
        "MOM = 0.9"
      ],
      "metadata": {
        "id": "bWnyOLYDhUw5"
      },
      "execution_count": null,
      "outputs": []
    },
    {
      "cell_type": "markdown",
      "source": [
        "# Glavna klasa modela"
      ],
      "metadata": {
        "id": "gnnoqsWdisbE"
      }
    },
    {
      "cell_type": "code",
      "source": [
        "from torchvision.transforms.transforms import ToTensor\n",
        "class Net(nn.Module):\n",
        "    def __init__(self, net_type):\n",
        "        super(Net, self).__init__()\n",
        "\n",
        "        self.net_type = net_type\n",
        "\n",
        "        if ('normal' in self.net_type) or ('hybrid_nor' in self.net_type) or ('synergy_nor' in self.net_type) or ('synergy_all' in self.net_type):\n",
        "           self.conv1_normal = nn.Conv2d(3, 6, 5)\n",
        "           self.pool_normal = nn.MaxPool2d(2, 2)\n",
        "           self.conv2_normal = nn.Conv2d(6, 16, 5)\n",
        "\n",
        "        if ('negative' in self.net_type) or ('hybrid_neg' in self.net_type) or ('synergy_neg' in self.net_type) or ('synergy_all' in self.net_type):\n",
        "           self.conv1_negative = nn.Conv2d(3, 6, 5)\n",
        "           self.pool_negative = nn.MaxPool2d(2, 2)\n",
        "           self.conv2_negative = nn.Conv2d(6, 16, 5)\n",
        "\n",
        "        if ('normal' in self.net_type) or ('synergy_nor' in self.net_type) or ('synergy_all' in self.net_type):\n",
        "           self.fc1_normal = nn.Linear(CONV_OUT, HIDDEN1)\n",
        "           self.fc2_normal = nn.Linear(HIDDEN1, HIDDEN2)\n",
        "           self.fc3_normal = nn.Linear(HIDDEN2, NUM_CLASSES)\n",
        "\n",
        "        if ('hybrid_nor' in self.net_type) or ('synergy_nor' in self.net_type) or ('synergy_all' in self.net_type):\n",
        "           self.fc1_normal_n = nn.Linear(CONV_OUT, HIDDEN1)\n",
        "           self.fc2_normal_n = nn.Linear(HIDDEN1, HIDDEN2)\n",
        "           self.fc3_normal_n = nn.Linear(HIDDEN2, NUM_CLASSES)\n",
        "\n",
        "        if ('hybrid_neg' in self.net_type) or ('synergy_neg' in self.net_type) or ('synergy_all' in self.net_type):\n",
        "           self.fc1_negative = nn.Linear(CONV_OUT, HIDDEN1)\n",
        "           self.fc2_negative = nn.Linear(HIDDEN1, HIDDEN2)\n",
        "           self.fc3_negative = nn.Linear(HIDDEN2, NUM_CLASSES)\n",
        "\n",
        "        if ('negative' in self.net_type) or ('synergy_neg' in self.net_type) or ('synergy_all' in self.net_type):\n",
        "           self.fc1_negative_n = nn.Linear(CONV_OUT, HIDDEN1)\n",
        "           self.fc2_negative_n = nn.Linear(HIDDEN1, HIDDEN2)\n",
        "           self.fc3_negative_n = nn.Linear(HIDDEN2, NUM_CLASSES)\n",
        "\n",
        "    def forward(self, x):\n",
        "        # conv block:\n",
        "        if ('normal' in self.net_type) or ('hybrid_nor' in self.net_type) or ('synergy_nor' in self.net_type) or ('synergy_all' in self.net_type):\n",
        "           x_normal = self.pool_normal(F.relu(self.conv1_normal(x)))\n",
        "           x_normal = self.pool_normal(F.relu(self.conv2_normal(x_normal)))\n",
        "           x_normal = x_normal.view(-1, CONV_OUT)\n",
        "\n",
        "        if ('negative' in self.net_type) or ('hybrid_neg' in self.net_type) or ('synergy_neg' in self.net_type) or ('synergy_all' in self.net_type):\n",
        "           x_negative = self.pool_negative(F.relu(self.conv1_negative(x)))\n",
        "           x_negative = self.pool_negative(F.relu(self.conv2_negative(x_negative)))\n",
        "           x_negative = x_negative.view(-1, CONV_OUT)\n",
        "\n",
        "        # fc block:\n",
        "        if 'synergy_nor' in self.net_type:\n",
        "            x_normal_normal = self.fc3_normal(F.relu(self.fc2_normal(F.relu(self.fc1_normal(x_normal)))))\n",
        "            x_normal_negative = self.fc3_normal_n(F.relu(self.fc2_normal_n(F.relu(self.fc1_normal_n(1 - x_normal)))))\n",
        "\n",
        "            o = x_normal_normal + x_normal_negative * OMEGA\n",
        "\n",
        "        else:\n",
        "            if 'synergy_neg' in self.net_type:\n",
        "                x_negative_normal = self.fc3_negative(F.relu(self.fc2_negative(F.relu(self.fc1_negative(x_negative)))))\n",
        "                x_negative_negative = self.fc3_negative_n(F.relu(self.fc2_negative_n(F.relu(self.fc1_negative_n(1 - x_negative)))))\n",
        "\n",
        "                o = x_negative_normal + x_negative_negative * OMEGA\n",
        "\n",
        "            else:\n",
        "                if 'synergy_all' in self.net_type:\n",
        "                    x_normal_normal = self.fc3_normal(F.relu(self.fc2_normal(F.relu(self.fc1_normal(x_normal)))))\n",
        "                    x_normal_negative = self.fc3_normal_n(F.relu(self.fc2_normal_n(F.relu(self.fc1_normal_n(1 - x_normal)))))\n",
        "                    x_negative_normal = self.fc3_negative(F.relu(self.fc2_negative(F.relu(self.fc1_negative(x_negative)))))\n",
        "                    x_negative_negative = self.fc3_negative_n(F.relu(self.fc2_negative_n(F.relu(self.fc1_negative_n(1 - x_negative)))))\n",
        "\n",
        "                    o = x_normal_normal + x_normal_negative * OMEGA + x_negative_normal + x_negative_negative * OMEGA\n",
        "                else:\n",
        "                    if 'negative' in self.net_type:\n",
        "                         x = 1 - x_negative\n",
        "                         o = self.fc3_negative_n(F.relu(self.fc2_negative_n(F.relu(self.fc1_negative_n(x)))))\n",
        "                    else:\n",
        "                         if 'normal' in self.net_type:\n",
        "                             x = x_normal\n",
        "                             o = self.fc3_normal(F.relu(self.fc2_normal(F.relu(self.fc1_normal(x)))))\n",
        "                         else:\n",
        "                             if 'hybrid_neg' in self.net_type:\n",
        "                                 x = x_negative\n",
        "                                 o = self.fc3_negative(F.relu(self.fc2_negative(F.relu(self.fc1_negative(x)))))\n",
        "                             else:\n",
        "                                 x = 1 - x_normal\n",
        "                                 o = self.fc3_normal_n(F.relu(self.fc2_normal_n(F.relu(self.fc1_normal_n(x)))))\n",
        "\n",
        "        return o"
      ],
      "metadata": {
        "id": "cm71He_DhThk"
      },
      "execution_count": null,
      "outputs": []
    },
    {
      "cell_type": "markdown",
      "source": [
        "# Pomoćne funkcije za trening i testove"
      ],
      "metadata": {
        "id": "nn5Sv1oliuJa"
      }
    },
    {
      "cell_type": "code",
      "source": [
        "def train(model, device, train_loader, optimizer, epoch, loss_fn=F.nll_loss):\n",
        "    model.train()\n",
        "    for batch_idx, (data, target) in enumerate(train_loader):\n",
        "        data, target = data.to(device), target.to(device)\n",
        "        optimizer.zero_grad()\n",
        "        output = model(data)\n",
        "        loss = loss_fn(output, target)\n",
        "        loss.backward()\n",
        "        optimizer.step()\n",
        "        if batch_idx % 5000 == 0:\n",
        "            print('[{}] Train Epoch: {} [{}/{} ({:.0f}%)]\\tLoss: {:.6f}'\n",
        "                  .format(model.net_type, epoch, batch_idx * len(data),\n",
        "                          len(train_loader.dataset),\n",
        "                          100. * batch_idx / len(train_loader), loss.item()))\n",
        "\n",
        "\n",
        "def test(model, device, test_loader, loss_fn=F.nll_loss, dataset_name=None, filter_map=None):\n",
        "    model.eval()\n",
        "    test_loss = 0\n",
        "    correct = 0\n",
        "    index_store = []\n",
        "    with torch.no_grad():\n",
        "        for i, (data, target) in enumerate(test_loader):\n",
        "            data, target = data.to(device), target.to(device)\n",
        "            if filter_map and dataset_name in filter_map:\n",
        "              for batch in data:\n",
        "                for channel in batch:\n",
        "                  channel.mul_(filter_map[dataset_name].to(device))\n",
        "            output = model(data)\n",
        "            test_loss += loss_fn(output, target, reduction='sum').item()\n",
        "            pred = output.argmax(dim=1, keepdim=True)\n",
        "            c = pred.eq(target.view_as(pred)).sum().item()\n",
        "            correct += c\n",
        "            index_store.append((i, c))\n",
        "\n",
        "    test_loss /= len(test_loader.dataset)\n",
        "\n",
        "    print('[{}] Test set: Average loss: {:.4f}, Accuracy: {}/{} ({:.0f}%)'\n",
        "          .format(model.net_type, test_loss, correct, len(test_loader.dataset),\n",
        "                  100. * correct / len(test_loader.dataset)))\n",
        "\n",
        "    return index_store"
      ],
      "metadata": {
        "id": "PdVhO8PahqJi"
      },
      "execution_count": null,
      "outputs": []
    },
    {
      "cell_type": "markdown",
      "source": [
        "# Učitavanje podataka (i \"stari\" filteri)"
      ],
      "metadata": {
        "id": "cixC7Xj9iy4S"
      }
    },
    {
      "cell_type": "code",
      "source": [
        "kwargs = {'num_workers': 2, 'pin_memory': True} \\\n",
        "         if torch.cuda.is_available() else {}\n",
        "\n",
        "f_v, f_h, f_d, f_t = torch.ones((28, 28)), torch.ones((28, 28)), \\\n",
        "                     torch.ones((28, 28)), torch.ones((28, 28))\n",
        "f_v[:, :14] = 0  # vertical filter\n",
        "f_h[:14, :] = 0  # horizontal filter\n",
        "f_d[:14, 15:], f_d[15:, :14] = 0, 0  # diagonal filter\n",
        "f_t[6:15, 6:15], f_t[18:27, 11:20], f_t[8:17, 17:26] = 0, 0, 0  # tcut\n",
        "\n",
        "\n",
        "def mnist_loader(train=False):\n",
        "    return torch.utils.data.DataLoader(\n",
        "        datasets.MNIST('../data', download=True, train=train,\n",
        "                       transform=transforms.Compose([\n",
        "                           transforms.ToTensor(),\n",
        "                           transforms.Normalize((0.1307,), (0.3081,))\n",
        "                       ])),\n",
        "        batch_size=64 if train else 1, shuffle=train, **kwargs)\n",
        "\n",
        "\n",
        "def emnist_loader(split='balanced'):\n",
        "    def _loader(train=False):\n",
        "        return torch.utils.data.DataLoader(\n",
        "           datasets.EMNIST('../data', split=split, download=True, train=train,\n",
        "                           transform=transforms.Compose([\n",
        "                                transforms.ToTensor(),\n",
        "                                transforms.Normalize((0.1307,), (0.3081,))\n",
        "                            ])), batch_size=64 if train else 1,\n",
        "           shuffle=train, **kwargs)\n",
        "    return _loader\n",
        "\n",
        "transform_cifar = transforms.Compose(\n",
        "        [transforms.ToTensor(),\n",
        "         transforms.Normalize((0.5, 0.5, 0.5), (0.5, 0.5, 0.5))])\n",
        "\n",
        "def cifar10_loader(train=False, batch_size=4):\n",
        "    return torch.utils.data.DataLoader(\n",
        "        datasets.CIFAR10('../data', download=True, train=train,\n",
        "                          transform=transform_cifar),\n",
        "                          batch_size=batch_size,\n",
        "                          shuffle=train, **kwargs)\n",
        "\n",
        "transform_train = transforms.Compose([\n",
        "    transforms.RandomCrop(32, padding=4),\n",
        "    transforms.RandomHorizontalFlip(),\n",
        "    transforms.ToTensor(),\n",
        "    transforms.Normalize((0.4914, 0.4822, 0.4465), (0.2023, 0.1994, 0.2010)),\n",
        "])\n",
        "\n",
        "transform_test = transforms.Compose([\n",
        "    transforms.ToTensor(),\n",
        "    transforms.Normalize((0.4914, 0.4822, 0.4465), (0.2023, 0.1994, 0.2010)),\n",
        "])\n",
        "\n",
        "def cifar10_loader_resnet(train=False, batch_size=1536):\n",
        "    return torch.utils.data.DataLoader(\n",
        "        datasets.CIFAR10('../data', download=True, train=train,\n",
        "                          transform=transform_train if train else transform_test),\n",
        "                          batch_size=batch_size,\n",
        "                          shuffle=train, **kwargs)\n",
        "\n",
        "cifar10_classes = ['plane', 'car', 'bird', 'cat',\n",
        "                   'deer', 'dog', 'frog', 'horse', 'ship', 'truck']"
      ],
      "metadata": {
        "id": "hCCYyEi2h0f3"
      },
      "execution_count": null,
      "outputs": []
    },
    {
      "cell_type": "markdown",
      "source": [
        "# Gde se radi trening (GPU)"
      ],
      "metadata": {
        "id": "Wi8tBpyyjFwK"
      }
    },
    {
      "cell_type": "code",
      "source": [
        "device = torch.device('cuda' if torch.cuda.is_available() else 'cpu')"
      ],
      "metadata": {
        "id": "PIJioPFwjDya"
      },
      "execution_count": null,
      "outputs": []
    },
    {
      "cell_type": "markdown",
      "source": [
        "# Trening modela"
      ],
      "metadata": {
        "id": "AyHSdFzCjRWz"
      }
    },
    {
      "cell_type": "code",
      "source": [
        "loader = cifar10_loader\n",
        "\n",
        "train_loader = loader(train=True)\n",
        "test_loader = loader()\n",
        "\n",
        "model_normal = Net('normal').to(device)\n",
        "model_negative = Net('negative').to(device)\n",
        "\n",
        "model_synergy_nor = Net('synergy_nor').to(device)\n",
        "model_synergy_neg = Net('synergy_neg').to(device)\n",
        "model_synergy_all = Net('synergy_all').to(device)\n",
        "\n",
        "model_hybrid_nor = Net('hybrid_nor').to(device)\n",
        "model_hybrid_neg = Net('hybrid_neg').to(device)\n",
        "\n",
        "model_tr_synergy_all = Net('tr_synergy_all').to(device)"
      ],
      "metadata": {
        "colab": {
          "base_uri": "https://localhost:8080/",
          "height": 101,
          "referenced_widgets": [
            "e2c0ecd894b64fb3af73a8f9c9b1fc1c",
            "786dafaa9f824a09847417347e8e2e01",
            "4e0693f445754724a28a36e2fc319571",
            "cd8aa88883d14c35a70d64d7834cd445",
            "b8b9a61407d74e41894824faafeb8897",
            "e206eb08c84a4c5eb4528b8f845ec69d",
            "55f14608f930452cb13d85599d7651fe",
            "2ff37b52463c4efeb416c0b031b0e480",
            "324442e732374b1b917c64ec38772e1a",
            "7b15de5cd0d24cbd9dd52339422121e4",
            "1ff2c73565ce4f5cb3c8c9c980a24e3e"
          ]
        },
        "id": "IfyD9EzAhoxq",
        "outputId": "fa07202d-374f-40ad-8712-4fffb6a408a8"
      },
      "execution_count": null,
      "outputs": [
        {
          "output_type": "stream",
          "name": "stdout",
          "text": [
            "Downloading https://www.cs.toronto.edu/~kriz/cifar-10-python.tar.gz to ../data/cifar-10-python.tar.gz\n"
          ]
        },
        {
          "output_type": "display_data",
          "data": {
            "text/plain": [
              "  0%|          | 0/170498071 [00:00<?, ?it/s]"
            ],
            "application/vnd.jupyter.widget-view+json": {
              "version_major": 2,
              "version_minor": 0,
              "model_id": "e2c0ecd894b64fb3af73a8f9c9b1fc1c"
            }
          },
          "metadata": {}
        },
        {
          "output_type": "stream",
          "name": "stdout",
          "text": [
            "Extracting ../data/cifar-10-python.tar.gz to ../data\n",
            "Files already downloaded and verified\n"
          ]
        }
      ]
    },
    {
      "cell_type": "markdown",
      "source": [
        "# Obični model"
      ],
      "metadata": {
        "id": "YhaCBQgZjqPQ"
      }
    },
    {
      "cell_type": "code",
      "source": [
        "# ---- Normal net:\n",
        "\n",
        "optimizer_normal = optim.SGD(filter(lambda p: p.requires_grad,\n",
        "                             model_normal.parameters()), lr=LR, momentum=MOM)\n",
        "\n",
        "for epoch in range(1, 10 + 1):\n",
        "    train(model_normal, device, train_loader, optimizer_normal,\n",
        "          epoch, loss_fn=F.cross_entropy)\n",
        "\n",
        "for param in model_normal.parameters():\n",
        "  param.requires_grad = False\n",
        "\n",
        "conv1_nor = model_normal.conv1_normal\n",
        "conv2_nor = model_normal.conv2_normal\n",
        "\n",
        "# Zamrzavanje slojeva\n",
        "conv1_nor.weight.requires_grad = False\n",
        "conv2_nor.weight.requires_grad = False\n",
        "conv1_nor.bias.requires_grad = False\n",
        "conv2_nor.bias.requires_grad = False\n"
      ],
      "metadata": {
        "id": "tVzPpwdVjnwP",
        "colab": {
          "base_uri": "https://localhost:8080/"
        },
        "outputId": "d24164c9-5317-450f-a29c-546e24db3a4a"
      },
      "execution_count": null,
      "outputs": [
        {
          "output_type": "stream",
          "name": "stdout",
          "text": [
            "[normal] Train Epoch: 1 [0/50000 (0%)]\tLoss: 2.310223\n",
            "[normal] Train Epoch: 1 [20000/50000 (40%)]\tLoss: 1.614852\n",
            "[normal] Train Epoch: 1 [40000/50000 (80%)]\tLoss: 1.705020\n",
            "[normal] Train Epoch: 2 [0/50000 (0%)]\tLoss: 1.740256\n",
            "[normal] Train Epoch: 2 [20000/50000 (40%)]\tLoss: 1.690403\n",
            "[normal] Train Epoch: 2 [40000/50000 (80%)]\tLoss: 0.625700\n",
            "[normal] Train Epoch: 3 [0/50000 (0%)]\tLoss: 0.555290\n",
            "[normal] Train Epoch: 3 [20000/50000 (40%)]\tLoss: 2.294093\n",
            "[normal] Train Epoch: 3 [40000/50000 (80%)]\tLoss: 1.108989\n",
            "[normal] Train Epoch: 4 [0/50000 (0%)]\tLoss: 1.216584\n",
            "[normal] Train Epoch: 4 [20000/50000 (40%)]\tLoss: 0.192439\n",
            "[normal] Train Epoch: 4 [40000/50000 (80%)]\tLoss: 1.183787\n",
            "[normal] Train Epoch: 5 [0/50000 (0%)]\tLoss: 1.382581\n",
            "[normal] Train Epoch: 5 [20000/50000 (40%)]\tLoss: 0.968159\n",
            "[normal] Train Epoch: 5 [40000/50000 (80%)]\tLoss: 0.852927\n",
            "[normal] Train Epoch: 6 [0/50000 (0%)]\tLoss: 0.988070\n",
            "[normal] Train Epoch: 6 [20000/50000 (40%)]\tLoss: 0.855280\n",
            "[normal] Train Epoch: 6 [40000/50000 (80%)]\tLoss: 1.958716\n",
            "[normal] Train Epoch: 7 [0/50000 (0%)]\tLoss: 1.129857\n",
            "[normal] Train Epoch: 7 [20000/50000 (40%)]\tLoss: 0.465074\n",
            "[normal] Train Epoch: 7 [40000/50000 (80%)]\tLoss: 2.445760\n",
            "[normal] Train Epoch: 8 [0/50000 (0%)]\tLoss: 1.644955\n",
            "[normal] Train Epoch: 8 [20000/50000 (40%)]\tLoss: 3.159526\n",
            "[normal] Train Epoch: 8 [40000/50000 (80%)]\tLoss: 0.982276\n",
            "[normal] Train Epoch: 9 [0/50000 (0%)]\tLoss: 1.599218\n",
            "[normal] Train Epoch: 9 [20000/50000 (40%)]\tLoss: 1.049620\n",
            "[normal] Train Epoch: 9 [40000/50000 (80%)]\tLoss: 1.076213\n",
            "[normal] Train Epoch: 10 [0/50000 (0%)]\tLoss: 0.874253\n",
            "[normal] Train Epoch: 10 [20000/50000 (40%)]\tLoss: 0.450992\n",
            "[normal] Train Epoch: 10 [40000/50000 (80%)]\tLoss: 2.207763\n"
          ]
        }
      ]
    },
    {
      "cell_type": "markdown",
      "source": [
        "#Snimanje modela"
      ],
      "metadata": {
        "id": "IeNrNmoGSQyP"
      }
    },
    {
      "cell_type": "code",
      "source": [
        "# torch.save(model_normal.state_dict(), 'model_normal.pt')\n",
        "torch.save(model_normal, 'model_normal.pt')"
      ],
      "metadata": {
        "id": "QdJlwhO3SUJO"
      },
      "execution_count": null,
      "outputs": []
    },
    {
      "cell_type": "markdown",
      "source": [
        "#Učitavanje modela"
      ],
      "metadata": {
        "id": "Y2NS-lhHSrEP"
      }
    },
    {
      "cell_type": "code",
      "source": [
        "# model_normal = Net('normal').to(device)\n",
        "model_normal =torch.load('model_normal.pt')\n",
        "# model_normal = torch.load('model_normal.pt',map_location=torch.device('cpu'))"
      ],
      "metadata": {
        "id": "tuFdgsMtSvNP"
      },
      "execution_count": null,
      "outputs": []
    },
    {
      "cell_type": "markdown",
      "source": [
        "# Negativni (hibrid) model"
      ],
      "metadata": {
        "id": "cMsSJFdbjr6W"
      }
    },
    {
      "cell_type": "code",
      "source": [
        "# ---- Hybrid net:\n",
        "\n",
        "# Deljenje zamrznutih slojeva\n",
        "model_hybrid_nor.conv1_normal = conv1_nor\n",
        "model_hybrid_nor.conv2_normal = conv2_nor\n",
        "\n",
        "optimizer_hybrid_nor = optim.SGD(filter(lambda p: p.requires_grad,\n",
        "                             model_hybrid_nor.parameters()), lr=LR, momentum=MOM)\n",
        "\n",
        "for epoch in range(1, 10 + 1):\n",
        "    train(model_hybrid_nor, device, train_loader, optimizer_hybrid_nor,\n",
        "          epoch, loss_fn=F.cross_entropy)\n",
        "\n",
        "for param in model_hybrid_nor.parameters():\n",
        "  param.requires_grad = False\n"
      ],
      "metadata": {
        "id": "-tTyH-UejbDb",
        "colab": {
          "base_uri": "https://localhost:8080/"
        },
        "outputId": "cf2b6f00-daec-44ad-d5ae-b0702f8bd06f"
      },
      "execution_count": null,
      "outputs": [
        {
          "output_type": "stream",
          "name": "stdout",
          "text": [
            "[hybrid_nor] Train Epoch: 1 [0/50000 (0%)]\tLoss: 2.291122\n",
            "[hybrid_nor] Train Epoch: 1 [20000/50000 (40%)]\tLoss: 1.246517\n",
            "[hybrid_nor] Train Epoch: 1 [40000/50000 (80%)]\tLoss: 1.191990\n",
            "[hybrid_nor] Train Epoch: 2 [0/50000 (0%)]\tLoss: 0.697345\n",
            "[hybrid_nor] Train Epoch: 2 [20000/50000 (40%)]\tLoss: 0.633021\n",
            "[hybrid_nor] Train Epoch: 2 [40000/50000 (80%)]\tLoss: 0.037267\n",
            "[hybrid_nor] Train Epoch: 3 [0/50000 (0%)]\tLoss: 1.690177\n",
            "[hybrid_nor] Train Epoch: 3 [20000/50000 (40%)]\tLoss: 0.718447\n",
            "[hybrid_nor] Train Epoch: 3 [40000/50000 (80%)]\tLoss: 0.928414\n",
            "[hybrid_nor] Train Epoch: 4 [0/50000 (0%)]\tLoss: 0.329095\n",
            "[hybrid_nor] Train Epoch: 4 [20000/50000 (40%)]\tLoss: 3.012349\n",
            "[hybrid_nor] Train Epoch: 4 [40000/50000 (80%)]\tLoss: 0.656267\n",
            "[hybrid_nor] Train Epoch: 5 [0/50000 (0%)]\tLoss: 0.724164\n",
            "[hybrid_nor] Train Epoch: 5 [20000/50000 (40%)]\tLoss: 0.314836\n",
            "[hybrid_nor] Train Epoch: 5 [40000/50000 (80%)]\tLoss: 0.509352\n",
            "[hybrid_nor] Train Epoch: 6 [0/50000 (0%)]\tLoss: 0.460192\n",
            "[hybrid_nor] Train Epoch: 6 [20000/50000 (40%)]\tLoss: 1.108378\n",
            "[hybrid_nor] Train Epoch: 6 [40000/50000 (80%)]\tLoss: 0.769858\n",
            "[hybrid_nor] Train Epoch: 7 [0/50000 (0%)]\tLoss: 0.716675\n",
            "[hybrid_nor] Train Epoch: 7 [20000/50000 (40%)]\tLoss: 0.722035\n",
            "[hybrid_nor] Train Epoch: 7 [40000/50000 (80%)]\tLoss: 0.234793\n",
            "[hybrid_nor] Train Epoch: 8 [0/50000 (0%)]\tLoss: 0.988450\n",
            "[hybrid_nor] Train Epoch: 8 [20000/50000 (40%)]\tLoss: 0.919068\n",
            "[hybrid_nor] Train Epoch: 8 [40000/50000 (80%)]\tLoss: 0.861508\n",
            "[hybrid_nor] Train Epoch: 9 [0/50000 (0%)]\tLoss: 0.184319\n",
            "[hybrid_nor] Train Epoch: 9 [20000/50000 (40%)]\tLoss: 0.981092\n",
            "[hybrid_nor] Train Epoch: 9 [40000/50000 (80%)]\tLoss: 0.524550\n",
            "[hybrid_nor] Train Epoch: 10 [0/50000 (0%)]\tLoss: 0.489199\n",
            "[hybrid_nor] Train Epoch: 10 [20000/50000 (40%)]\tLoss: 1.717108\n",
            "[hybrid_nor] Train Epoch: 10 [40000/50000 (80%)]\tLoss: 0.864724\n"
          ]
        }
      ]
    },
    {
      "cell_type": "markdown",
      "source": [
        "#Snimanje modela"
      ],
      "metadata": {
        "id": "RxogxixOW5Lo"
      }
    },
    {
      "cell_type": "code",
      "source": [
        "# torch.save(model_hybrid_nor.state_dict(), 'model_hybrid_nor.pt')\n",
        "torch.save(model_hybrid_nor, 'model_hybrid_nor.pt')"
      ],
      "metadata": {
        "id": "mzH35ZrrW8TP"
      },
      "execution_count": null,
      "outputs": []
    },
    {
      "cell_type": "markdown",
      "source": [
        "#Učitavanje modela"
      ],
      "metadata": {
        "id": "YsHC6FtYXIkv"
      }
    },
    {
      "cell_type": "code",
      "source": [
        "# model_hybrid_nor = Net('hybrid_nor').to(device)\n",
        "model_hybrid_nor = torch.load('model_hybrid_nor.pt')\n",
        "# model_hybrid_nor = torch.load('model_hybrid_nor.pt', map_location=torch.device('cpu'))"
      ],
      "metadata": {
        "id": "gFo593ITXL_o"
      },
      "execution_count": null,
      "outputs": []
    },
    {
      "cell_type": "markdown",
      "source": [
        "# Skroz negativni model"
      ],
      "metadata": {
        "id": "QTlEJJWljtsg"
      }
    },
    {
      "cell_type": "code",
      "source": [
        "# ---- Negative net:\n",
        "\n",
        "optimizer_negative = optim.SGD(filter(lambda p: p.requires_grad,\n",
        "                             model_negative.parameters()), lr=LR, momentum=MOM)\n",
        "\n",
        "for epoch in range(1, 10 + 1):\n",
        "    train(model_negative, device, train_loader, optimizer_negative,\n",
        "          epoch, loss_fn=F.cross_entropy)\n",
        "\n",
        "for param in model_negative.parameters():\n",
        "  param.requires_grad = False\n",
        "\n",
        "conv1_neg = model_negative.conv1_negative\n",
        "conv2_neg = model_negative.conv2_negative\n",
        "\n",
        "conv1_neg.weight.requires_grad = False\n",
        "conv2_neg.weight.requires_grad = False\n",
        "conv1_neg.bias.requires_grad = False\n",
        "conv2_neg.bias.requires_grad = False"
      ],
      "metadata": {
        "colab": {
          "base_uri": "https://localhost:8080/"
        },
        "id": "wrofy2FrjfUp",
        "outputId": "37cdc934-18a2-472f-c677-59ac25e7c458"
      },
      "execution_count": null,
      "outputs": [
        {
          "output_type": "stream",
          "name": "stdout",
          "text": [
            "[negative] Train Epoch: 1 [0/50000 (0%)]\tLoss: 2.391846\n",
            "[negative] Train Epoch: 1 [20000/50000 (40%)]\tLoss: 1.260582\n",
            "[negative] Train Epoch: 1 [40000/50000 (80%)]\tLoss: 2.243703\n",
            "[negative] Train Epoch: 2 [0/50000 (0%)]\tLoss: 0.498810\n",
            "[negative] Train Epoch: 2 [20000/50000 (40%)]\tLoss: 2.829049\n",
            "[negative] Train Epoch: 2 [40000/50000 (80%)]\tLoss: 1.296724\n",
            "[negative] Train Epoch: 3 [0/50000 (0%)]\tLoss: 1.938336\n",
            "[negative] Train Epoch: 3 [20000/50000 (40%)]\tLoss: 0.877067\n",
            "[negative] Train Epoch: 3 [40000/50000 (80%)]\tLoss: 1.055545\n",
            "[negative] Train Epoch: 4 [0/50000 (0%)]\tLoss: 0.705427\n",
            "[negative] Train Epoch: 4 [20000/50000 (40%)]\tLoss: 0.994989\n",
            "[negative] Train Epoch: 4 [40000/50000 (80%)]\tLoss: 1.647451\n",
            "[negative] Train Epoch: 5 [0/50000 (0%)]\tLoss: 0.688273\n",
            "[negative] Train Epoch: 5 [20000/50000 (40%)]\tLoss: 0.647759\n",
            "[negative] Train Epoch: 5 [40000/50000 (80%)]\tLoss: 0.186551\n",
            "[negative] Train Epoch: 6 [0/50000 (0%)]\tLoss: 0.762220\n",
            "[negative] Train Epoch: 6 [20000/50000 (40%)]\tLoss: 2.442592\n",
            "[negative] Train Epoch: 6 [40000/50000 (80%)]\tLoss: 1.158414\n",
            "[negative] Train Epoch: 7 [0/50000 (0%)]\tLoss: 0.194765\n",
            "[negative] Train Epoch: 7 [20000/50000 (40%)]\tLoss: 0.408566\n",
            "[negative] Train Epoch: 7 [40000/50000 (80%)]\tLoss: 0.510552\n",
            "[negative] Train Epoch: 8 [0/50000 (0%)]\tLoss: 0.464228\n",
            "[negative] Train Epoch: 8 [20000/50000 (40%)]\tLoss: 0.827014\n",
            "[negative] Train Epoch: 8 [40000/50000 (80%)]\tLoss: 0.320341\n",
            "[negative] Train Epoch: 9 [0/50000 (0%)]\tLoss: 0.849929\n",
            "[negative] Train Epoch: 9 [20000/50000 (40%)]\tLoss: 0.238181\n",
            "[negative] Train Epoch: 9 [40000/50000 (80%)]\tLoss: 0.709980\n",
            "[negative] Train Epoch: 10 [0/50000 (0%)]\tLoss: 0.512903\n",
            "[negative] Train Epoch: 10 [20000/50000 (40%)]\tLoss: 1.026810\n",
            "[negative] Train Epoch: 10 [40000/50000 (80%)]\tLoss: 0.369193\n"
          ]
        }
      ]
    },
    {
      "cell_type": "markdown",
      "source": [
        "#Snimanje modela"
      ],
      "metadata": {
        "id": "DgSJ8NFRXk2o"
      }
    },
    {
      "cell_type": "code",
      "source": [
        "# torch.save(model_negative.state_dict(), 'model_negative.pt')\n",
        "torch.save(model_negative, 'model_negative.pt')"
      ],
      "metadata": {
        "id": "bzeceDqVXrF3"
      },
      "execution_count": null,
      "outputs": []
    },
    {
      "cell_type": "markdown",
      "source": [
        "#Učitavanje modela"
      ],
      "metadata": {
        "id": "a_gt070HX3Ta"
      }
    },
    {
      "cell_type": "code",
      "source": [
        "# model_negative = Net('negative').to(device)\n",
        "model_negative = torch.load('model_negative.pt')\n",
        "# model_negative = torch.load('model_negative.pt', map_location=torch.device('cpu'))"
      ],
      "metadata": {
        "id": "kImG0VHFX6e5"
      },
      "execution_count": null,
      "outputs": []
    },
    {
      "cell_type": "markdown",
      "source": [
        "# Skroz negativni (hibrid) model"
      ],
      "metadata": {
        "id": "_WHzYGGokqJV"
      }
    },
    {
      "cell_type": "code",
      "source": [
        "# ---- Hybrid_neg net:\n",
        "\n",
        "model_hybrid_neg.conv1_negative = conv1_neg\n",
        "model_hybrid_neg.conv2_negative = conv2_neg\n",
        "\n",
        "optimizer_hybrid_neg = optim.SGD(filter(lambda p: p.requires_grad,\n",
        "                             model_hybrid_neg.parameters()), lr=LR, momentum=MOM)\n",
        "\n",
        "for epoch in range(1, 10 + 1):\n",
        "    train(model_hybrid_neg, device, train_loader, optimizer_hybrid_neg,\n",
        "          epoch, loss_fn=F.cross_entropy)\n",
        "\n",
        "for param in model_hybrid_neg.parameters():\n",
        "  param.requires_grad = False\n"
      ],
      "metadata": {
        "colab": {
          "base_uri": "https://localhost:8080/"
        },
        "id": "Dx1Wm5n4k6kM",
        "outputId": "11e22c2f-ae32-41e6-b3aa-064c7745a644"
      },
      "execution_count": null,
      "outputs": [
        {
          "output_type": "stream",
          "name": "stdout",
          "text": [
            "[hybrid_neg] Train Epoch: 1 [0/50000 (0%)]\tLoss: 2.179877\n",
            "[hybrid_neg] Train Epoch: 1 [20000/50000 (40%)]\tLoss: 1.732502\n",
            "[hybrid_neg] Train Epoch: 1 [40000/50000 (80%)]\tLoss: 0.533782\n",
            "[hybrid_neg] Train Epoch: 2 [0/50000 (0%)]\tLoss: 1.055029\n",
            "[hybrid_neg] Train Epoch: 2 [20000/50000 (40%)]\tLoss: 0.852370\n",
            "[hybrid_neg] Train Epoch: 2 [40000/50000 (80%)]\tLoss: 1.223256\n",
            "[hybrid_neg] Train Epoch: 3 [0/50000 (0%)]\tLoss: 0.587731\n",
            "[hybrid_neg] Train Epoch: 3 [20000/50000 (40%)]\tLoss: 1.150801\n",
            "[hybrid_neg] Train Epoch: 3 [40000/50000 (80%)]\tLoss: 1.450901\n",
            "[hybrid_neg] Train Epoch: 4 [0/50000 (0%)]\tLoss: 1.543195\n",
            "[hybrid_neg] Train Epoch: 4 [20000/50000 (40%)]\tLoss: 1.504092\n",
            "[hybrid_neg] Train Epoch: 4 [40000/50000 (80%)]\tLoss: 1.879776\n",
            "[hybrid_neg] Train Epoch: 5 [0/50000 (0%)]\tLoss: 0.659842\n",
            "[hybrid_neg] Train Epoch: 5 [20000/50000 (40%)]\tLoss: 0.790339\n",
            "[hybrid_neg] Train Epoch: 5 [40000/50000 (80%)]\tLoss: 0.708915\n",
            "[hybrid_neg] Train Epoch: 6 [0/50000 (0%)]\tLoss: 1.431962\n",
            "[hybrid_neg] Train Epoch: 6 [20000/50000 (40%)]\tLoss: 0.475534\n",
            "[hybrid_neg] Train Epoch: 6 [40000/50000 (80%)]\tLoss: 0.546815\n",
            "[hybrid_neg] Train Epoch: 7 [0/50000 (0%)]\tLoss: 1.276513\n",
            "[hybrid_neg] Train Epoch: 7 [20000/50000 (40%)]\tLoss: 0.821403\n",
            "[hybrid_neg] Train Epoch: 7 [40000/50000 (80%)]\tLoss: 0.378004\n",
            "[hybrid_neg] Train Epoch: 8 [0/50000 (0%)]\tLoss: 0.316442\n",
            "[hybrid_neg] Train Epoch: 8 [20000/50000 (40%)]\tLoss: 1.361408\n",
            "[hybrid_neg] Train Epoch: 8 [40000/50000 (80%)]\tLoss: 0.867876\n",
            "[hybrid_neg] Train Epoch: 9 [0/50000 (0%)]\tLoss: 0.520018\n",
            "[hybrid_neg] Train Epoch: 9 [20000/50000 (40%)]\tLoss: 0.231039\n",
            "[hybrid_neg] Train Epoch: 9 [40000/50000 (80%)]\tLoss: 0.645974\n",
            "[hybrid_neg] Train Epoch: 10 [0/50000 (0%)]\tLoss: 0.285241\n",
            "[hybrid_neg] Train Epoch: 10 [20000/50000 (40%)]\tLoss: 0.877633\n",
            "[hybrid_neg] Train Epoch: 10 [40000/50000 (80%)]\tLoss: 0.645083\n"
          ]
        }
      ]
    },
    {
      "cell_type": "markdown",
      "source": [
        "#Snimanje modela"
      ],
      "metadata": {
        "id": "LJxfeU63YUhv"
      }
    },
    {
      "cell_type": "code",
      "source": [
        "# torch.save(model_hybrid_neg.state_dict(), 'model_hybrid_neg.pt')\n",
        "torch.save(model_hybrid_neg, 'model_hybrid_neg.pt')"
      ],
      "metadata": {
        "id": "5dRSkCmOYXCe"
      },
      "execution_count": null,
      "outputs": []
    },
    {
      "cell_type": "markdown",
      "source": [
        "#Učitavanje modela"
      ],
      "metadata": {
        "id": "w2JDjyxKYhem"
      }
    },
    {
      "cell_type": "code",
      "source": [
        "# model_hybrid_neg = Net('hybrid_neg').to(device)\n",
        "model_hybrid_neg = torch.load('model_hybrid_neg.pt')\n",
        "# model_hybrid_neg = torch.load('model_hybrid_neg.pt', map_location=torch.device('cpu'))"
      ],
      "metadata": {
        "id": "UDD80FpMYj52"
      },
      "execution_count": null,
      "outputs": []
    },
    {
      "cell_type": "markdown",
      "source": [
        "# Sinergije bez treninga"
      ],
      "metadata": {
        "id": "N0bHHE0Qjv4k"
      }
    },
    {
      "cell_type": "code",
      "source": [
        "# ---- synergy_nor net (not trained):\n",
        "\n",
        "model_synergy_nor.conv1_normal = conv1_nor\n",
        "model_synergy_nor.conv2_normal = conv2_nor\n",
        "\n",
        "model_synergy_nor.fc1_normal = model_normal.fc1_normal\n",
        "model_synergy_nor.fc2_normal = model_normal.fc2_normal\n",
        "model_synergy_nor.fc3_normal = model_normal.fc3_normal\n",
        "\n",
        "model_synergy_nor.fc1_normal_n = model_hybrid_nor.fc1_normal_n\n",
        "model_synergy_nor.fc2_normal_n = model_hybrid_nor.fc2_normal_n\n",
        "model_synergy_nor.fc3_normal_n = model_hybrid_nor.fc3_normal_n\n",
        "\n",
        "# ---- synergy_neg net (not trained):\n",
        "\n",
        "model_synergy_neg.conv1_negative = conv1_neg\n",
        "model_synergy_neg.conv2_negative = conv2_neg\n",
        "\n",
        "model_synergy_neg.fc1_negative = model_hybrid_neg.fc1_negative\n",
        "model_synergy_neg.fc2_negative = model_hybrid_neg.fc2_negative\n",
        "model_synergy_neg.fc3_negative = model_hybrid_neg.fc3_negative\n",
        "\n",
        "model_synergy_neg.fc1_negative_n = model_negative.fc1_negative_n\n",
        "model_synergy_neg.fc2_negative_n = model_negative.fc2_negative_n\n",
        "model_synergy_neg.fc3_negative_n = model_negative.fc3_negative_n\n",
        "\n",
        "# ---- synergy_all net (not trained):\n",
        "\n",
        "model_synergy_all.conv1_normal = conv1_nor\n",
        "model_synergy_all.conv2_normal = conv2_nor\n",
        "model_synergy_all.conv1_negative = conv1_neg\n",
        "model_synergy_all.conv2_negative = conv2_neg\n",
        "\n",
        "model_synergy_all.fc1_normal = model_normal.fc1_normal\n",
        "model_synergy_all.fc2_normal = model_normal.fc2_normal\n",
        "model_synergy_all.fc3_normal = model_normal.fc3_normal\n",
        "\n",
        "model_synergy_all.fc1_normal_n = model_hybrid_nor.fc1_normal_n\n",
        "model_synergy_all.fc2_normal_n = model_hybrid_nor.fc2_normal_n\n",
        "model_synergy_all.fc3_normal_n = model_hybrid_nor.fc3_normal_n\n",
        "\n",
        "model_synergy_all.fc1_negative = model_hybrid_neg.fc1_negative\n",
        "model_synergy_all.fc2_negative = model_hybrid_neg.fc2_negative\n",
        "model_synergy_all.fc3_negative = model_hybrid_neg.fc3_negative\n",
        "\n",
        "model_synergy_all.fc1_negative_n = model_negative.fc1_negative_n\n",
        "model_synergy_all.fc2_negative_n = model_negative.fc2_negative_n\n",
        "model_synergy_all.fc3_negative_n = model_negative.fc3_negative_n\n"
      ],
      "metadata": {
        "id": "K3og876Sjjcv"
      },
      "execution_count": null,
      "outputs": []
    },
    {
      "cell_type": "markdown",
      "source": [
        "#Snimanje modela"
      ],
      "metadata": {
        "id": "DDfGtdBOY7GN"
      }
    },
    {
      "cell_type": "code",
      "source": [
        "# torch.save(model_synergy_nor.state_dict(), 'model_synergy_nor.pt')\n",
        "# torch.save(model_synergy_neg.state_dict(), 'model_synergy_neg.pt')\n",
        "# torch.save(model_synergy_all.state_dict(), 'model_synergy_all.pt')\n",
        "torch.save(model_synergy_nor, 'model_synergy_nor.pt')\n",
        "torch.save(model_synergy_neg, 'model_synergy_neg.pt')\n",
        "torch.save(model_synergy_all, 'model_synergy_all.pt')"
      ],
      "metadata": {
        "id": "IrRg0aSsY9Z1"
      },
      "execution_count": null,
      "outputs": []
    },
    {
      "cell_type": "markdown",
      "source": [
        "#Učitavanje modela"
      ],
      "metadata": {
        "id": "bfo0XLVzZuC8"
      }
    },
    {
      "cell_type": "code",
      "source": [
        "model_synergy_nor = torch.load('model_synergy_nor.pt')\n",
        "model_synergy_neg = torch.load('model_synergy_neg.pt')\n",
        "model_synergy_all = torch.load('model_synergy_all.pt')\n",
        "\n",
        "# model_synergy_nor = torch.load('model_synergy_nor.pt', map_location=torch.device('cpu'))\n",
        "# model_synergy_neg = torch.load('model_synergy_neg.pt', map_location=torch.device('cpu'))\n",
        "# model_synergy_all = torch.load('model_synergy_all.pt', map_location=torch.device('cpu'))"
      ],
      "metadata": {
        "id": "uCyUjBNFZwam"
      },
      "execution_count": null,
      "outputs": []
    },
    {
      "cell_type": "markdown",
      "source": [
        "#Trenirana sinergija"
      ],
      "metadata": {
        "id": "tSaBhKZSRfmv"
      }
    },
    {
      "cell_type": "code",
      "source": [
        "# ---- Trained synergy_all TF:\n",
        "\n",
        "model_tr_synergy_all.conv1_normal = conv1_nor\n",
        "model_tr_synergy_all.conv2_normal = conv2_nor\n",
        "model_tr_synergy_all.conv1_negative = conv1_neg\n",
        "model_tr_synergy_all.conv2_negative = conv2_neg\n",
        "\n",
        "optimizer_tr_synergy_all = optim.SGD(filter(lambda p: p.requires_grad,\n",
        "                                    model_tr_synergy_all.parameters()),\n",
        "                                    lr=LR, momentum=MOM)\n",
        "\n",
        "for epoch in range(1, 10 + 1):\n",
        "    train(model_tr_synergy_all, device, train_loader,\n",
        "          optimizer_tr_synergy_all, epoch, loss_fn=F.cross_entropy)\n"
      ],
      "metadata": {
        "id": "ytwJAOInRk9l"
      },
      "execution_count": null,
      "outputs": []
    },
    {
      "cell_type": "markdown",
      "source": [
        "#Snimanje modela"
      ],
      "metadata": {
        "id": "TmDcuZI7Sqhk"
      }
    },
    {
      "cell_type": "code",
      "source": [
        "# torch.save(model_tr_synergy_all.state_dict(), 'model_tr_synergy_all.pt')\n",
        "torch.save(model_tr_synergy_all, 'model_tr_synergy_all.pt')"
      ],
      "metadata": {
        "id": "oyAp9pjKStSB"
      },
      "execution_count": null,
      "outputs": []
    },
    {
      "cell_type": "markdown",
      "source": [
        "#Učitavanje modela"
      ],
      "metadata": {
        "id": "8xRFumxzS9w8"
      }
    },
    {
      "cell_type": "code",
      "source": [
        "model_tr_synergy_all = torch.load('model_tr_synergy_all.pt')\n",
        "\n",
        "# model_tr_synergy_all = torch.load('model_tr_synergy_all.pt', map_location=torch.device('cpu'))"
      ],
      "metadata": {
        "id": "FNtNMUDpTAOU"
      },
      "execution_count": null,
      "outputs": []
    },
    {
      "cell_type": "markdown",
      "source": [
        "# Nova sečenja"
      ],
      "metadata": {
        "id": "EthmWCpAj0QZ"
      }
    },
    {
      "cell_type": "code",
      "source": [
        "import random\n",
        "random.seed(0)\n",
        "\n",
        "def corner_kernel(factor):\n",
        "    kernel = np.ones((32, 32))\n",
        "    limit = int(factor * kernel.shape[0]) * 2\n",
        "    f = (1 - np.tril(kernel[:limit, :limit]))\n",
        "    kernel[kernel.shape[0] - limit:limit + kernel.shape[0], :limit] = f\n",
        "    return torch.tensor(kernel)\n",
        "\n",
        "def single_square_kernel(start=5, size=10):\n",
        "    kernel = np.ones((32, 32))\n",
        "    kernel[start:start+size, start:start+size] = 0.\n",
        "    return torch.tensor(kernel)\n",
        "\n",
        "def single_square_kernel_random(start=5, size=10):\n",
        "    random_pos = random.randint(0, 31 - size)\n",
        "    kernel = np.ones((32, 32))\n",
        "    kernel[random_pos:random_pos + size, random_pos:random_pos + size] = 0.\n",
        "    return torch.tensor(kernel)\n",
        "\n",
        "def multiple_square_kernel(n_cuts=3, start=5, size=10):\n",
        "    size_triple = size // n_cuts\n",
        "    kernel = np.ones((32, 32))\n",
        "\n",
        "    beg = start\n",
        "    end = start + size_triple\n",
        "\n",
        "    for _ in range(n_cuts):\n",
        "\n",
        "        kernel[beg:end, beg:end] = 0.\n",
        "\n",
        "        beg = end + 5\n",
        "        end = beg + size_triple\n",
        "\n",
        "    return torch.tensor(kernel)\n",
        "\n",
        "def multiple_square_kernel_random(n_cuts = 2, start=0, size=20, sep = 5):\n",
        "    size_triple = size // n_cuts\n",
        "    kernel = np.ones((32, 32))\n",
        "\n",
        "    beg1 = start + random.randint(1, sep)\n",
        "    end1 = beg1 + size_triple\n",
        "\n",
        "    beg2 = start + random.randint(1, sep)\n",
        "    end2 = beg2 + size_triple\n",
        "\n",
        "    for _ in range(n_cuts):\n",
        "\n",
        "        kernel[beg1:end1, beg2:end2] = 0.\n",
        "\n",
        "        beg1 = end1 + random.randint(1, sep)\n",
        "        end1 = beg1 + size_triple\n",
        "\n",
        "        beg2 = end2 + random.randint(1, sep)\n",
        "        end2 = beg2 + size_triple\n",
        "\n",
        "    return torch.tensor(kernel)"
      ],
      "metadata": {
        "id": "FE6fnn25iDLS"
      },
      "execution_count": null,
      "outputs": []
    },
    {
      "cell_type": "markdown",
      "source": [
        "# Testiranje sa svim modelima i svim \"novim\" sečenjima"
      ],
      "metadata": {
        "id": "LJ2SMsKtj2oo"
      }
    },
    {
      "cell_type": "code",
      "source": [
        "from torchvision import datasets, transforms\n",
        "import random\n",
        "random.seed(0)\n",
        "\n",
        "models = [model_normal, model_negative, model_hybrid_nor, model_hybrid_neg,\n",
        "          model_synergy_nor, model_synergy_neg, model_synergy_all, model_tr_synergy_all]\n",
        "\n",
        "\n",
        "dataset_names = ['Normal', 'C1', 'C2', 'C3', 'SSK', 'SSKR', 'MSK', 'MSKR']\n",
        "\n",
        "alldatasets = []\n",
        "for _ in dataset_names:\n",
        "    alldatasets.append(loader())\n",
        "\n",
        "filters_map = {'C1': corner_kernel(0.1),\n",
        "               'C2': corner_kernel(0.2), 'C3': corner_kernel(0.3),\n",
        "               'SSK': single_square_kernel(), 'SSKR': single_square_kernel_random(), 'MSK': multiple_square_kernel(), 'MSKR': multiple_square_kernel_random()}\n",
        "\n",
        "for dataset, name in zip(alldatasets, dataset_names):\n",
        "    print('Testing -- ' + name)\n",
        "    fdir = '.'\n",
        "    for m in models:\n",
        "        index_store = test(m, device, dataset, loss_fn=F.cross_entropy, dataset_name=name, filter_map=filters_map)\n",
        "        file_name = f'{fdir}/{m.net_type}-{name}-{dt.now()}.pth'\n",
        "        with open(file_name, 'wb') as f:\n",
        "            pickle.dump(index_store, f)\n",
        "\n",
        "for m in models:\n",
        "    file_name = f'{m.net_type}-{dt.now()}.pth'\n",
        "    torch.save(m.state_dict(), file_name)"
      ],
      "metadata": {
        "id": "WHwKfEbUh9UR"
      },
      "execution_count": null,
      "outputs": []
    },
    {
      "cell_type": "markdown",
      "source": [
        "# Dodatni pomoćni elementi za FGSM"
      ],
      "metadata": {
        "id": "CCzvIyDbF8cS"
      }
    },
    {
      "cell_type": "code",
      "source": [
        "loader_fgsm = cifar10_loader\n",
        "\n",
        "test_loader_fgsm = loader_fgsm(batch_size=1)\n",
        "\n",
        "# FGSM attack code\n",
        "def fgsm_attack(image, epsilon, data_grad):\n",
        "    # get element-wise signs for gradient ascent\n",
        "    sign_data_grad = data_grad.sign()\n",
        "    perturbed_image = image + epsilon * sign_data_grad\n",
        "    # clip to [0,1]\n",
        "    # perturbed_image = torch.clamp(perturbed_image, 0, 1)\n",
        "    return perturbed_image\n",
        "\n",
        "def test_fgsm(model, device, test_loader, epsilon):\n",
        "    model.eval()\n",
        "    correct = 0\n",
        "    adv_examples = []\n",
        "\n",
        "    for data, target in test_loader:\n",
        "\n",
        "        data, target = data.to(device), target.to(device)\n",
        "        data.requires_grad = True\n",
        "        output = model(data)\n",
        "        init_pred = output.max(1, keepdim=True)[1]\n",
        "\n",
        "        # breakpoint()\n",
        "        # If the initial prediction is wrong\n",
        "        # dont bother attacking, just move on\n",
        "        if init_pred.item() != target.item():\n",
        "            continue\n",
        "\n",
        "        loss = F.nll_loss(output, target)\n",
        "\n",
        "        model.zero_grad()\n",
        "\n",
        "        loss.backward()\n",
        "\n",
        "        data_grad = data.grad.data\n",
        "\n",
        "        perturbed_data = fgsm_attack(data, epsilon, data_grad)\n",
        "\n",
        "        output = model(perturbed_data)\n",
        "\n",
        "        final_pred = output.max(1, keepdim=True)[1]\n",
        "\n",
        "        if final_pred.item() == target.item():\n",
        "            correct += 1\n",
        "            if (epsilon == 0) and (len(adv_examples) < 5):\n",
        "                adv_ex = perturbed_data.squeeze().detach().cpu().numpy()\n",
        "                adv_examples.append((init_pred.item(), final_pred.item(), adv_ex))\n",
        "        else:\n",
        "            if len(adv_examples) < 5:\n",
        "                adv_ex = perturbed_data.squeeze().detach().cpu().numpy()\n",
        "                adv_examples.append((init_pred.item(), final_pred.item(), adv_ex))\n",
        "\n",
        "    final_acc = correct / float(len(test_loader))\n",
        "    print(\n",
        "        \"Model: {}\\tEpsilon: {}\\tTest Accuracy = {} / {} = {}\".format(\n",
        "            model.net_type, epsilon, correct, len(test_loader), final_acc\n",
        "        )\n",
        "    )\n",
        "\n",
        "    return final_acc, adv_examples"
      ],
      "metadata": {
        "id": "RxB7HZnKGPPZ",
        "colab": {
          "base_uri": "https://localhost:8080/"
        },
        "outputId": "25fb6c18-7ea5-46b3-b168-ac7b4998b40a"
      },
      "execution_count": null,
      "outputs": [
        {
          "output_type": "stream",
          "name": "stdout",
          "text": [
            "Files already downloaded and verified\n"
          ]
        }
      ]
    },
    {
      "cell_type": "markdown",
      "source": [
        "# Testiranje za FGSM"
      ],
      "metadata": {
        "id": "emGnFMQZHclp"
      }
    },
    {
      "cell_type": "code",
      "source": [
        "# Testing:\n",
        "\n",
        "start_time = time.time()\n",
        "\n",
        "models_fgsm = [\n",
        "    model_normal,\n",
        "    model_negative,\n",
        "    model_synergy_nor,\n",
        "    model_synergy_neg,\n",
        "    model_synergy_all,\n",
        "    model_tr_synergy_all\n",
        "]\n",
        "\n",
        "epsilons = [0, 0.01, 0.02, 0.03, 0.04, 0.05]\n",
        "accuracies = []\n",
        "examples = []\n",
        "\n",
        "# Run test for each epsilon\n",
        "for eps in epsilons:\n",
        "    for model in models_fgsm:\n",
        "        acc, ex = test_fgsm(model, device, test_loader_fgsm, eps)\n",
        "        accuracies.append(acc)\n",
        "\n",
        "print('--- Total time: %s seconds ---' % (time.time() - start_time))\n"
      ],
      "metadata": {
        "id": "Z2p4pVLNHg4T"
      },
      "execution_count": null,
      "outputs": []
    },
    {
      "cell_type": "markdown",
      "source": [
        "#Black-box PGD"
      ],
      "metadata": {
        "id": "HrRciAo93mx_"
      }
    },
    {
      "cell_type": "code",
      "source": [
        "import torchattacks\n",
        "from torchattacks import PGD\n",
        "from torch.utils.data import DataLoader, TensorDataset\n",
        "\n",
        "batch_size = 128\n",
        "\n",
        "train_att = datasets.CIFAR10(root='../data', train=True,\n",
        "                      download=True, transform=transforms.ToTensor())\n",
        "test_att = datasets.CIFAR10(root='../data', train=False,\n",
        "                     download=True, transform=transforms.ToTensor())\n",
        "\n",
        "train_loader_att = torch.utils.data.DataLoader(train_att,\n",
        "                                           batch_size=batch_size,\n",
        "                                           shuffle=True)\n",
        "test_loader_att = torch.utils.data.DataLoader(test_att,\n",
        "                                          batch_size=batch_size,\n",
        "                                          shuffle=False)\n",
        "\n",
        "transform_att = transforms.Normalize((0.5, 0.5, 0.5), (0.5, 0.5, 0.5))\n",
        "\n",
        "\n",
        "models_test = [\n",
        "    model_normal,\n",
        "    model_synergy_nor,\n",
        "    model_synergy_all,\n",
        "    model_tr_synergy_all\n",
        "]\n",
        "\n",
        "epsilons = [0.0, 0.01, 0.03, 0.05]\n",
        "\n",
        "\n",
        "for epsilon in epsilons:\n",
        "    print(\"=\" * 30)\n",
        "    print(\"epsilon =\", epsilon)\n",
        "    print(\"=\" * 30)\n",
        "\n",
        "    for attacked in models_test:\n",
        "        print('attacked: ', attacked.net_type)\n",
        "        pgd_attack = PGD(attacked, eps=epsilon, alpha=2/255, steps=40)\n",
        "        pgd_attack.save(data_loader=test_loader_att, save_path=\"../data/cifar_pgd.pt\",\n",
        "                        verbose=False, save_type='int')\n",
        "\n",
        "        adv_dict = torch.load(\"../data/cifar_pgd.pt\")\n",
        "        adv_images = adv_dict['adv_inputs']\n",
        "        adv_labels = adv_dict['labels']\n",
        "\n",
        "        adv_images = transform_att(adv_images.float()/255)\n",
        "        adv_data = TensorDataset(adv_images, adv_labels)\n",
        "        adv_loader = DataLoader(adv_data, batch_size=128, shuffle=False, **kwargs)\n",
        "\n",
        "        for model in models_test:\n",
        "            model.eval()\n",
        "            correct = 0\n",
        "            total = 0\n",
        "\n",
        "            for images, labels in adv_loader:\n",
        "                images = images.cuda()\n",
        "                outputs = model(images)\n",
        "                _, predicted = torch.max(outputs.data, 1)\n",
        "                total += labels.size(0)\n",
        "                correct += (predicted == labels.cuda()).sum()\n",
        "\n",
        "            print(model.net_type, 'acc: %.2f %%' % (100 * float(correct) / total), end='; ')\n",
        "        print(\"\\n\")\n"
      ],
      "metadata": {
        "id": "H8hrYuEV3wAg"
      },
      "execution_count": null,
      "outputs": []
    }
  ]
}